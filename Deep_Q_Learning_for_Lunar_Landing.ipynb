{
  "cells": [
    {
      "cell_type": "markdown",
      "metadata": {
        "id": "LbZcI9ZXHl3a"
      },
      "source": [
        "# Deep Q-Learning for Lunar Landing"
      ]
    },
    {
      "cell_type": "markdown",
      "metadata": {
        "id": "E8yPRjteXgPb"
      },
      "source": [
        "## Part 0 - Installing the required packages and importing the libraries"
      ]
    },
    {
      "cell_type": "markdown",
      "metadata": {
        "id": "slEm5teGWjWU"
      },
      "source": [
        "### Installing Gymnasium"
      ]
    },
    {
      "cell_type": "code",
      "execution_count": 1,
      "metadata": {
        "id": "dbnq3XpoKa_7",
        "colab": {
          "base_uri": "https://localhost:8080/"
        },
        "outputId": "ddc4e994-c2be-4329-b872-6ced7b9a8ffd"
      },
      "outputs": [
        {
          "output_type": "stream",
          "name": "stdout",
          "text": [
            "Collecting gymnasium\n",
            "  Downloading gymnasium-0.29.1-py3-none-any.whl (953 kB)\n",
            "\u001b[2K     \u001b[90m━━━━━━━━━━━━━━━━━━━━━━━━━━━━━━━━━━━━━━━━\u001b[0m \u001b[32m953.9/953.9 kB\u001b[0m \u001b[31m11.9 MB/s\u001b[0m eta \u001b[36m0:00:00\u001b[0m\n",
            "\u001b[?25hRequirement already satisfied: numpy>=1.21.0 in /usr/local/lib/python3.10/dist-packages (from gymnasium) (1.25.2)\n",
            "Requirement already satisfied: cloudpickle>=1.2.0 in /usr/local/lib/python3.10/dist-packages (from gymnasium) (2.2.1)\n",
            "Requirement already satisfied: typing-extensions>=4.3.0 in /usr/local/lib/python3.10/dist-packages (from gymnasium) (4.11.0)\n",
            "Collecting farama-notifications>=0.0.1 (from gymnasium)\n",
            "  Downloading Farama_Notifications-0.0.4-py3-none-any.whl (2.5 kB)\n",
            "Installing collected packages: farama-notifications, gymnasium\n",
            "Successfully installed farama-notifications-0.0.4 gymnasium-0.29.1\n",
            "Requirement already satisfied: gymnasium[accept-rom-license,atari] in /usr/local/lib/python3.10/dist-packages (0.29.1)\n",
            "Requirement already satisfied: numpy>=1.21.0 in /usr/local/lib/python3.10/dist-packages (from gymnasium[accept-rom-license,atari]) (1.25.2)\n",
            "Requirement already satisfied: cloudpickle>=1.2.0 in /usr/local/lib/python3.10/dist-packages (from gymnasium[accept-rom-license,atari]) (2.2.1)\n",
            "Requirement already satisfied: typing-extensions>=4.3.0 in /usr/local/lib/python3.10/dist-packages (from gymnasium[accept-rom-license,atari]) (4.11.0)\n",
            "Requirement already satisfied: farama-notifications>=0.0.1 in /usr/local/lib/python3.10/dist-packages (from gymnasium[accept-rom-license,atari]) (0.0.4)\n",
            "Collecting autorom[accept-rom-license]~=0.4.2 (from gymnasium[accept-rom-license,atari])\n",
            "  Downloading AutoROM-0.4.2-py3-none-any.whl (16 kB)\n",
            "Collecting shimmy[atari]<1.0,>=0.1.0 (from gymnasium[accept-rom-license,atari])\n",
            "  Downloading Shimmy-0.2.1-py3-none-any.whl (25 kB)\n",
            "Requirement already satisfied: click in /usr/local/lib/python3.10/dist-packages (from autorom[accept-rom-license]~=0.4.2->gymnasium[accept-rom-license,atari]) (8.1.7)\n",
            "Requirement already satisfied: requests in /usr/local/lib/python3.10/dist-packages (from autorom[accept-rom-license]~=0.4.2->gymnasium[accept-rom-license,atari]) (2.31.0)\n",
            "Requirement already satisfied: tqdm in /usr/local/lib/python3.10/dist-packages (from autorom[accept-rom-license]~=0.4.2->gymnasium[accept-rom-license,atari]) (4.66.4)\n",
            "Collecting AutoROM.accept-rom-license (from autorom[accept-rom-license]~=0.4.2->gymnasium[accept-rom-license,atari])\n",
            "  Downloading AutoROM.accept-rom-license-0.6.1.tar.gz (434 kB)\n",
            "\u001b[2K     \u001b[90m━━━━━━━━━━━━━━━━━━━━━━━━━━━━━━━━━━━━━━━━\u001b[0m \u001b[32m434.7/434.7 kB\u001b[0m \u001b[31m13.3 MB/s\u001b[0m eta \u001b[36m0:00:00\u001b[0m\n",
            "\u001b[?25h  Installing build dependencies ... \u001b[?25l\u001b[?25hdone\n",
            "  Getting requirements to build wheel ... \u001b[?25l\u001b[?25hdone\n",
            "  Preparing metadata (pyproject.toml) ... \u001b[?25l\u001b[?25hdone\n",
            "Collecting ale-py~=0.8.1 (from shimmy[atari]<1.0,>=0.1.0->gymnasium[accept-rom-license,atari])\n",
            "  Downloading ale_py-0.8.1-cp310-cp310-manylinux_2_17_x86_64.manylinux2014_x86_64.whl (1.7 MB)\n",
            "\u001b[2K     \u001b[90m━━━━━━━━━━━━━━━━━━━━━━━━━━━━━━━━━━━━━━━━\u001b[0m \u001b[32m1.7/1.7 MB\u001b[0m \u001b[31m34.2 MB/s\u001b[0m eta \u001b[36m0:00:00\u001b[0m\n",
            "\u001b[?25hRequirement already satisfied: importlib-resources in /usr/local/lib/python3.10/dist-packages (from ale-py~=0.8.1->shimmy[atari]<1.0,>=0.1.0->gymnasium[accept-rom-license,atari]) (6.4.0)\n",
            "Requirement already satisfied: charset-normalizer<4,>=2 in /usr/local/lib/python3.10/dist-packages (from requests->autorom[accept-rom-license]~=0.4.2->gymnasium[accept-rom-license,atari]) (3.3.2)\n",
            "Requirement already satisfied: idna<4,>=2.5 in /usr/local/lib/python3.10/dist-packages (from requests->autorom[accept-rom-license]~=0.4.2->gymnasium[accept-rom-license,atari]) (3.7)\n",
            "Requirement already satisfied: urllib3<3,>=1.21.1 in /usr/local/lib/python3.10/dist-packages (from requests->autorom[accept-rom-license]~=0.4.2->gymnasium[accept-rom-license,atari]) (2.0.7)\n",
            "Requirement already satisfied: certifi>=2017.4.17 in /usr/local/lib/python3.10/dist-packages (from requests->autorom[accept-rom-license]~=0.4.2->gymnasium[accept-rom-license,atari]) (2024.2.2)\n",
            "Building wheels for collected packages: AutoROM.accept-rom-license\n",
            "  Building wheel for AutoROM.accept-rom-license (pyproject.toml) ... \u001b[?25l\u001b[?25hdone\n",
            "  Created wheel for AutoROM.accept-rom-license: filename=AutoROM.accept_rom_license-0.6.1-py3-none-any.whl size=446659 sha256=0c80d6fd94b688c0cb30c5f6ff1805a87184729139af23d9d87c9e0c62ba027b\n",
            "  Stored in directory: /root/.cache/pip/wheels/6b/1b/ef/a43ff1a2f1736d5711faa1ba4c1f61be1131b8899e6a057811\n",
            "Successfully built AutoROM.accept-rom-license\n",
            "Installing collected packages: ale-py, shimmy, AutoROM.accept-rom-license, autorom\n",
            "Successfully installed AutoROM.accept-rom-license-0.6.1 ale-py-0.8.1 autorom-0.4.2 shimmy-0.2.1\n",
            "Reading package lists... Done\n",
            "Building dependency tree... Done\n",
            "Reading state information... Done\n",
            "The following additional packages will be installed:\n",
            "  swig4.0\n",
            "Suggested packages:\n",
            "  swig-doc swig-examples swig4.0-examples swig4.0-doc\n",
            "The following NEW packages will be installed:\n",
            "  swig swig4.0\n",
            "0 upgraded, 2 newly installed, 0 to remove and 45 not upgraded.\n",
            "Need to get 1,116 kB of archives.\n",
            "After this operation, 5,542 kB of additional disk space will be used.\n",
            "Get:1 http://archive.ubuntu.com/ubuntu jammy/universe amd64 swig4.0 amd64 4.0.2-1ubuntu1 [1,110 kB]\n",
            "Get:2 http://archive.ubuntu.com/ubuntu jammy/universe amd64 swig all 4.0.2-1ubuntu1 [5,632 B]\n",
            "Fetched 1,116 kB in 1s (1,143 kB/s)\n",
            "Selecting previously unselected package swig4.0.\n",
            "(Reading database ... 121918 files and directories currently installed.)\n",
            "Preparing to unpack .../swig4.0_4.0.2-1ubuntu1_amd64.deb ...\n",
            "Unpacking swig4.0 (4.0.2-1ubuntu1) ...\n",
            "Selecting previously unselected package swig.\n",
            "Preparing to unpack .../swig_4.0.2-1ubuntu1_all.deb ...\n",
            "Unpacking swig (4.0.2-1ubuntu1) ...\n",
            "Setting up swig4.0 (4.0.2-1ubuntu1) ...\n",
            "Setting up swig (4.0.2-1ubuntu1) ...\n",
            "Processing triggers for man-db (2.10.2-1) ...\n",
            "Requirement already satisfied: gymnasium[box2d] in /usr/local/lib/python3.10/dist-packages (0.29.1)\n",
            "Requirement already satisfied: numpy>=1.21.0 in /usr/local/lib/python3.10/dist-packages (from gymnasium[box2d]) (1.25.2)\n",
            "Requirement already satisfied: cloudpickle>=1.2.0 in /usr/local/lib/python3.10/dist-packages (from gymnasium[box2d]) (2.2.1)\n",
            "Requirement already satisfied: typing-extensions>=4.3.0 in /usr/local/lib/python3.10/dist-packages (from gymnasium[box2d]) (4.11.0)\n",
            "Requirement already satisfied: farama-notifications>=0.0.1 in /usr/local/lib/python3.10/dist-packages (from gymnasium[box2d]) (0.0.4)\n",
            "Collecting box2d-py==2.3.5 (from gymnasium[box2d])\n",
            "  Downloading box2d-py-2.3.5.tar.gz (374 kB)\n",
            "\u001b[2K     \u001b[90m━━━━━━━━━━━━━━━━━━━━━━━━━━━━━━━━━━━━━━━━\u001b[0m \u001b[32m374.4/374.4 kB\u001b[0m \u001b[31m7.2 MB/s\u001b[0m eta \u001b[36m0:00:00\u001b[0m\n",
            "\u001b[?25h  Preparing metadata (setup.py) ... \u001b[?25l\u001b[?25hdone\n",
            "Requirement already satisfied: pygame>=2.1.3 in /usr/local/lib/python3.10/dist-packages (from gymnasium[box2d]) (2.5.2)\n",
            "Collecting swig==4.* (from gymnasium[box2d])\n",
            "  Downloading swig-4.2.1-py2.py3-none-manylinux_2_5_x86_64.manylinux1_x86_64.whl (1.9 MB)\n",
            "\u001b[2K     \u001b[90m━━━━━━━━━━━━━━━━━━━━━━━━━━━━━━━━━━━━━━━━\u001b[0m \u001b[32m1.9/1.9 MB\u001b[0m \u001b[31m47.6 MB/s\u001b[0m eta \u001b[36m0:00:00\u001b[0m\n",
            "\u001b[?25hBuilding wheels for collected packages: box2d-py\n",
            "  Building wheel for box2d-py (setup.py) ... \u001b[?25l\u001b[?25hdone\n",
            "  Created wheel for box2d-py: filename=box2d_py-2.3.5-cp310-cp310-linux_x86_64.whl size=2349116 sha256=d9b2167ee2275479c2d7e52d5ab6ce14a5aabaa7d5b4c3e5b0775dc475398d74\n",
            "  Stored in directory: /root/.cache/pip/wheels/db/8f/6a/eaaadf056fba10a98d986f6dce954e6201ba3126926fc5ad9e\n",
            "Successfully built box2d-py\n",
            "Installing collected packages: swig, box2d-py\n",
            "Successfully installed box2d-py-2.3.5 swig-4.2.1\n"
          ]
        }
      ],
      "source": [
        "!pip install gymnasium\n",
        "!pip install \"gymnasium[atari, accept-rom-license]\"\n",
        "!apt-get install -y swig\n",
        "!pip install gymnasium[box2d]"
      ]
    },
    {
      "cell_type": "markdown",
      "metadata": {
        "id": "brqiMN3UW9T9"
      },
      "source": [
        "### Importing the libraries"
      ]
    },
    {
      "cell_type": "code",
      "execution_count": 2,
      "metadata": {
        "id": "mZaKXP_aMl9O"
      },
      "outputs": [],
      "source": [
        "import os\n",
        "import random\n",
        "import numpy as np\n",
        "import torch\n",
        "import torch.nn as nn\n",
        "import torch.optim as optim\n",
        "import torch.nn.functional as F\n",
        "import torch.autograd as autograd\n",
        "from torch.autograd import Variable\n",
        "from collections import deque, namedtuple"
      ]
    },
    {
      "cell_type": "markdown",
      "metadata": {
        "id": "EzlDKXvkXzGI"
      },
      "source": [
        "## Part 1 - Building the AI"
      ]
    },
    {
      "cell_type": "markdown",
      "metadata": {
        "id": "UtG6Zc83YYy3"
      },
      "source": [
        "### Creating the architecture of the Neural Network"
      ]
    },
    {
      "cell_type": "code",
      "source": [
        "class Network(nn.Module):\n",
        "\n",
        "  def __init__(self, state_size, action_size, seed = 42):\n",
        "    super(Network, self).__init__()\n",
        "    self.seed = torch.manual_seed(seed)\n",
        "    self.fc1 = nn.Linear(state_size, 64)\n",
        "    self.fc2 = nn.Linear(64, 64)\n",
        "    self.fc3 = nn.Linear(64, action_size)\n",
        "\n",
        "  def forward(self, state):\n",
        "    x = self.fc1(state)\n",
        "    x = F.relu(x)\n",
        "    x = self.fc2(x)\n",
        "    x = F.relu(x)\n",
        "    return self.fc3(x)"
      ],
      "metadata": {
        "id": "h9oUxasLEJx9"
      },
      "execution_count": 3,
      "outputs": []
    },
    {
      "cell_type": "markdown",
      "metadata": {
        "id": "UxVrBnFWZKb1"
      },
      "source": [
        "## Part 2 - Training the AI"
      ]
    },
    {
      "cell_type": "markdown",
      "metadata": {
        "id": "T364fz9qZb2j"
      },
      "source": [
        "### Setting up the environment"
      ]
    },
    {
      "cell_type": "code",
      "source": [
        "import gymnasium as gym\n",
        "env = gym.make('LunarLander-v2')\n",
        "state_shape = env.observation_space.shape\n",
        "state_size = env.observation_space.shape[0]\n",
        "number_actions = env.action_space.n\n",
        "print('State shape: ', state_shape)\n",
        "print('State size: ', state_size)\n",
        "print('Number of actions: ', number_actions)"
      ],
      "metadata": {
        "colab": {
          "base_uri": "https://localhost:8080/"
        },
        "id": "NUWiCFWySXIh",
        "outputId": "03563b77-6687-4e42-b832-93e508d4dbbc"
      },
      "execution_count": 4,
      "outputs": [
        {
          "output_type": "stream",
          "name": "stdout",
          "text": [
            "State shape:  (8,)\n",
            "State size:  8\n",
            "Number of actions:  4\n"
          ]
        }
      ]
    },
    {
      "cell_type": "markdown",
      "metadata": {
        "id": "c_dZmOIvZgj-"
      },
      "source": [
        "### Initializing the hyperparameters"
      ]
    },
    {
      "cell_type": "code",
      "source": [
        "learning_rate = 5e-4\n",
        "minibatch_size = 100\n",
        "discount_factor = 0.99\n",
        "replay_buffer_size = int(1e5)\n",
        "interpolation_parameter = 1e-3"
      ],
      "metadata": {
        "id": "bNKnUzj1Oqz8"
      },
      "execution_count": 5,
      "outputs": []
    },
    {
      "cell_type": "markdown",
      "metadata": {
        "id": "8hD_Vs-bYnip"
      },
      "source": [
        "### Implementing Experience Replay"
      ]
    },
    {
      "cell_type": "code",
      "source": [
        "class ReplayMemory(object):\n",
        "\n",
        "  def __init__(self, capacity):\n",
        "    self.device = torch.device(\"cuda:0\" if torch.cuda.is_available() else \"cpu\")\n",
        "    self.capacity = capacity\n",
        "    self.memory = []\n",
        "\n",
        "  def push(self, event):\n",
        "    self.memory.append(event)\n",
        "    if len(self.memory) > self.capacity:\n",
        "      del self.memory[0]\n",
        "\n",
        "  def sample(self, batch_size):\n",
        "    experiences = random.sample(self.memory, k = batch_size)\n",
        "    states = torch.from_numpy(np.vstack([e[0] for e in experiences if e is not None])).float().to(self.device)\n",
        "    actions = torch.from_numpy(np.vstack([e[1] for e in experiences if e is not None])).long().to(self.device)\n",
        "    rewards = torch.from_numpy(np.vstack([e[2] for e in experiences if e is not None])).float().to(self.device)\n",
        "    next_states = torch.from_numpy(np.vstack([e[3] for e in experiences if e is not None])).float().to(self.device)\n",
        "    dones = torch.from_numpy(np.vstack([e[4] for e in experiences if e is not None]).astype(np.uint8)).float().to(self.device)\n",
        "    return states, next_states, actions, rewards, dones"
      ],
      "metadata": {
        "id": "QaEChoj_uRoe"
      },
      "execution_count": 6,
      "outputs": []
    },
    {
      "cell_type": "markdown",
      "metadata": {
        "id": "JmEkbFbUY6Jt"
      },
      "source": [
        "### Implementing the DQN class"
      ]
    },
    {
      "cell_type": "code",
      "source": [
        "class Agent():\n",
        "\n",
        "  def __init__(self, state_size, action_size):\n",
        "    self.device = torch.device(\"cuda:0\" if torch.cuda.is_available() else \"cpu\")\n",
        "    self.state_size = state_size\n",
        "    self.action_size = action_size\n",
        "    self.local_qnetwork = Network(state_size, action_size).to(self.device)\n",
        "    self.target_qnetwork = Network(state_size, action_size).to(self.device)\n",
        "    self.optimizer = optim.Adam(self.local_qnetwork.parameters(), lr = learning_rate)\n",
        "    self.memory = ReplayMemory(replay_buffer_size)\n",
        "    self.t_step = 0\n",
        "\n",
        "  def step(self, state, action, reward, next_state, done):\n",
        "    self.memory.push((state, action, reward, next_state, done))\n",
        "    self.t_step = (self.t_step + 1) % 4\n",
        "    if self.t_step == 0:\n",
        "      if len(self.memory.memory) > minibatch_size:\n",
        "        experiences = self.memory.sample(100)\n",
        "        self.learn(experiences, discount_factor)\n",
        "\n",
        "  def act(self, state, epsilon = 0.):\n",
        "    state = torch.from_numpy(state).float().unsqueeze(0).to(self.device)\n",
        "    self.local_qnetwork.eval()\n",
        "    with torch.no_grad():\n",
        "      action_values = self.local_qnetwork(state)\n",
        "    self.local_qnetwork.train()\n",
        "    if random.random() > epsilon:\n",
        "      return np.argmax(action_values.cpu().data.numpy())\n",
        "    else:\n",
        "      return random.choice(np.arange(self.action_size))\n",
        "\n",
        "  def learn(self, experiences, discount_factor):\n",
        "    states, next_states, actions, rewards, dones = experiences\n",
        "    next_q_targets = self.target_qnetwork(next_states).detach().max(1)[0].unsqueeze(1)\n",
        "    q_targets = rewards + discount_factor * next_q_targets * (1 - dones)\n",
        "    q_expected = self.local_qnetwork(states).gather(1, actions)\n",
        "    loss = F.mse_loss(q_expected, q_targets)\n",
        "    self.optimizer.zero_grad()\n",
        "    loss.backward()\n",
        "    self.optimizer.step()\n",
        "    self.soft_update(self.local_qnetwork, self.target_qnetwork, interpolation_parameter)\n",
        "\n",
        "  def soft_update(self, local_model, target_model, interpolation_parameter):\n",
        "    for target_param, local_param in zip(target_model.parameters(), local_model.parameters()):\n",
        "      target_param.data.copy_(interpolation_parameter * local_param.data + (1.0 - interpolation_parameter) * target_param.data)"
      ],
      "metadata": {
        "id": "iokmjTKJ9E3U"
      },
      "execution_count": 7,
      "outputs": []
    },
    {
      "cell_type": "markdown",
      "metadata": {
        "id": "o1tZElccZmf6"
      },
      "source": [
        "### Initializing the DQN agent"
      ]
    },
    {
      "cell_type": "code",
      "source": [
        "agent = Agent(state_size, number_actions)"
      ],
      "metadata": {
        "id": "cGbpJJvLjmIw"
      },
      "execution_count": 8,
      "outputs": []
    },
    {
      "cell_type": "markdown",
      "metadata": {
        "id": "E8v0PtUfaVQp"
      },
      "source": [
        "### Training the DQN agent"
      ]
    },
    {
      "cell_type": "code",
      "source": [
        "number_episodes = 2000\n",
        "maximum_number_timesteps_per_episode = 1000\n",
        "epsilon_starting_value  = 1.0\n",
        "epsilon_ending_value  = 0.01\n",
        "epsilon_decay_value  = 0.995\n",
        "epsilon = epsilon_starting_value\n",
        "scores_on_100_episodes = deque(maxlen = 100)\n",
        "\n",
        "for episode in range(1, number_episodes + 1):\n",
        "  state, _ = env.reset()\n",
        "  score = 0\n",
        "  for t in range(maximum_number_timesteps_per_episode):\n",
        "    action = agent.act(state, epsilon)\n",
        "    next_state, reward, done, _, _ = env.step(action)\n",
        "    agent.step(state, action, reward, next_state, done)\n",
        "    state = next_state\n",
        "    score += reward\n",
        "    if done:\n",
        "      break\n",
        "  scores_on_100_episodes.append(score)\n",
        "  epsilon = max(epsilon_ending_value, epsilon_decay_value * epsilon)\n",
        "  print('\\rEpisode {}\\tAverage Score: {:.2f}'.format(episode, np.mean(scores_on_100_episodes)), end = \"\")\n",
        "  if episode % 100 == 0:\n",
        "    print('\\rEpisode {}\\tAverage Score: {:.2f}'.format(episode, np.mean(scores_on_100_episodes)))\n",
        "  if np.mean(scores_on_100_episodes) >= 200.0:\n",
        "    print('\\nEnvironment solved in {:d} episodes!\\tAverage Score: {:.2f}'.format(episode - 100, np.mean(scores_on_100_episodes)))\n",
        "    torch.save(agent.local_qnetwork.state_dict(), 'checkpoint.pth')\n",
        "    break"
      ],
      "metadata": {
        "colab": {
          "base_uri": "https://localhost:8080/"
        },
        "id": "2ybZW6Im-Bwj",
        "outputId": "ad12e576-4445-4cc4-fb0d-3f636bd7e4a8"
      },
      "execution_count": 9,
      "outputs": [
        {
          "output_type": "stream",
          "name": "stdout",
          "text": [
            "Episode 100\tAverage Score: -179.72\n",
            "Episode 200\tAverage Score: -109.44\n",
            "Episode 300\tAverage Score: -16.81\n",
            "Episode 400\tAverage Score: 55.57\n",
            "Episode 500\tAverage Score: 35.32\n",
            "Episode 600\tAverage Score: 133.21\n",
            "Episode 700\tAverage Score: 183.45\n",
            "Episode 726\tAverage Score: 200.15\n",
            "Environment solved in 626 episodes!\tAverage Score: 200.15\n"
          ]
        }
      ]
    },
    {
      "cell_type": "markdown",
      "metadata": {
        "id": "O8CNwdOTcCoP"
      },
      "source": [
        "## Part 3 - Visualizing the results"
      ]
    },
    {
      "cell_type": "code",
      "execution_count": 10,
      "metadata": {
        "id": "cb9nVvU2Okhk",
        "colab": {
          "base_uri": "https://localhost:8080/",
          "height": 459
        },
        "outputId": "813f230a-3861-4faa-c75d-5ff4040c0ae6"
      },
      "outputs": [
        {
          "output_type": "stream",
          "name": "stderr",
          "text": [
            "WARNING:imageio_ffmpeg:IMAGEIO FFMPEG_WRITER WARNING: input image is not divisible by macro_block_size=16, resizing from (600, 400) to (608, 400) to ensure video compatibility with most codecs and players. To prevent resizing, make your input image divisible by the macro_block_size or set the macro_block_size to 1 (risking incompatibility).\n"
          ]
        },
        {
          "output_type": "display_data",
          "data": {
            "text/plain": [
              "<IPython.core.display.HTML object>"
            ],
            "text/html": [
              "<video alt=\"test\" autoplay\n",
              "                loop controls style=\"height: 400px;\">\n",
              "                <source src=\"data:video/mp4;base64,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\" type=\"video/mp4\" />\n",
              "             </video>"
            ]
          },
          "metadata": {}
        }
      ],
      "source": [
        "import glob\n",
        "import io\n",
        "import base64\n",
        "import imageio\n",
        "from IPython.display import HTML, display\n",
        "from gym.wrappers.monitoring.video_recorder import VideoRecorder\n",
        "\n",
        "def show_video_of_model(agent, env_name):\n",
        "    env = gym.make(env_name, render_mode='rgb_array')\n",
        "    state, _ = env.reset()\n",
        "    done = False\n",
        "    frames = []\n",
        "    while not done:\n",
        "        frame = env.render()\n",
        "        frames.append(frame)\n",
        "        action = agent.act(state)\n",
        "        state, reward, done, _, _ = env.step(action.item())\n",
        "    env.close()\n",
        "    imageio.mimsave('video.mp4', frames, fps=30)\n",
        "\n",
        "show_video_of_model(agent, 'LunarLander-v2')\n",
        "\n",
        "def show_video():\n",
        "    mp4list = glob.glob('*.mp4')\n",
        "    if len(mp4list) > 0:\n",
        "        mp4 = mp4list[0]\n",
        "        video = io.open(mp4, 'r+b').read()\n",
        "        encoded = base64.b64encode(video)\n",
        "        display(HTML(data='''<video alt=\"test\" autoplay\n",
        "                loop controls style=\"height: 400px;\">\n",
        "                <source src=\"data:video/mp4;base64,{0}\" type=\"video/mp4\" />\n",
        "             </video>'''.format(encoded.decode('ascii'))))\n",
        "    else:\n",
        "        print(\"Could not find video\")\n",
        "\n",
        "show_video()"
      ]
    }
  ],
  "metadata": {
    "colab": {
      "provenance": []
    },
    "kernelspec": {
      "display_name": "Python 3",
      "name": "python3"
    },
    "language_info": {
      "name": "python"
    }
  },
  "nbformat": 4,
  "nbformat_minor": 0
}