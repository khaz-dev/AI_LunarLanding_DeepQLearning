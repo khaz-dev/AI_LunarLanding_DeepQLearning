{
  "cells": [
    {
      "cell_type": "markdown",
      "metadata": {
        "id": "LbZcI9ZXHl3a"
      },
      "source": [
        "# Deep Q-Learning for Lunar Landing"
      ]
    },
    {
      "cell_type": "markdown",
      "metadata": {
        "id": "E8yPRjteXgPb"
      },
      "source": [
        "## Part 0 - Installing the required packages and importing the libraries"
      ]
    },
    {
      "cell_type": "markdown",
      "metadata": {
        "id": "slEm5teGWjWU"
      },
      "source": [
        "### Installing Gymnasium"
      ]
    },
    {
      "cell_type": "code",
      "execution_count": 1,
      "metadata": {
        "id": "dbnq3XpoKa_7",
        "colab": {
          "base_uri": "https://localhost:8080/"
        },
        "outputId": "57011e2e-e11b-460a-c44b-e8b51f56e26a"
      },
      "outputs": [
        {
          "output_type": "stream",
          "name": "stdout",
          "text": [
            "Collecting gymnasium\n",
            "  Downloading gymnasium-0.29.1-py3-none-any.whl (953 kB)\n",
            "\u001b[2K     \u001b[90m━━━━━━━━━━━━━━━━━━━━━━━━━━━━━━━━━━━━━━━━\u001b[0m \u001b[32m953.9/953.9 kB\u001b[0m \u001b[31m9.3 MB/s\u001b[0m eta \u001b[36m0:00:00\u001b[0m\n",
            "\u001b[?25hRequirement already satisfied: numpy>=1.21.0 in /usr/local/lib/python3.10/dist-packages (from gymnasium) (1.25.2)\n",
            "Requirement already satisfied: cloudpickle>=1.2.0 in /usr/local/lib/python3.10/dist-packages (from gymnasium) (2.2.1)\n",
            "Requirement already satisfied: typing-extensions>=4.3.0 in /usr/local/lib/python3.10/dist-packages (from gymnasium) (4.11.0)\n",
            "Collecting farama-notifications>=0.0.1 (from gymnasium)\n",
            "  Downloading Farama_Notifications-0.0.4-py3-none-any.whl (2.5 kB)\n",
            "Installing collected packages: farama-notifications, gymnasium\n",
            "Successfully installed farama-notifications-0.0.4 gymnasium-0.29.1\n",
            "Requirement already satisfied: gymnasium[accept-rom-license,atari] in /usr/local/lib/python3.10/dist-packages (0.29.1)\n",
            "Requirement already satisfied: numpy>=1.21.0 in /usr/local/lib/python3.10/dist-packages (from gymnasium[accept-rom-license,atari]) (1.25.2)\n",
            "Requirement already satisfied: cloudpickle>=1.2.0 in /usr/local/lib/python3.10/dist-packages (from gymnasium[accept-rom-license,atari]) (2.2.1)\n",
            "Requirement already satisfied: typing-extensions>=4.3.0 in /usr/local/lib/python3.10/dist-packages (from gymnasium[accept-rom-license,atari]) (4.11.0)\n",
            "Requirement already satisfied: farama-notifications>=0.0.1 in /usr/local/lib/python3.10/dist-packages (from gymnasium[accept-rom-license,atari]) (0.0.4)\n",
            "Collecting shimmy[atari]<1.0,>=0.1.0 (from gymnasium[accept-rom-license,atari])\n",
            "  Downloading Shimmy-0.2.1-py3-none-any.whl (25 kB)\n",
            "Collecting autorom[accept-rom-license]~=0.4.2 (from gymnasium[accept-rom-license,atari])\n",
            "  Downloading AutoROM-0.4.2-py3-none-any.whl (16 kB)\n",
            "Requirement already satisfied: click in /usr/local/lib/python3.10/dist-packages (from autorom[accept-rom-license]~=0.4.2->gymnasium[accept-rom-license,atari]) (8.1.7)\n",
            "Requirement already satisfied: requests in /usr/local/lib/python3.10/dist-packages (from autorom[accept-rom-license]~=0.4.2->gymnasium[accept-rom-license,atari]) (2.31.0)\n",
            "Requirement already satisfied: tqdm in /usr/local/lib/python3.10/dist-packages (from autorom[accept-rom-license]~=0.4.2->gymnasium[accept-rom-license,atari]) (4.66.4)\n",
            "Collecting AutoROM.accept-rom-license (from autorom[accept-rom-license]~=0.4.2->gymnasium[accept-rom-license,atari])\n",
            "  Downloading AutoROM.accept-rom-license-0.6.1.tar.gz (434 kB)\n",
            "\u001b[2K     \u001b[90m━━━━━━━━━━━━━━━━━━━━━━━━━━━━━━━━━━━━━━━━\u001b[0m \u001b[32m434.7/434.7 kB\u001b[0m \u001b[31m8.2 MB/s\u001b[0m eta \u001b[36m0:00:00\u001b[0m\n",
            "\u001b[?25h  Installing build dependencies ... \u001b[?25l\u001b[?25hdone\n",
            "  Getting requirements to build wheel ... \u001b[?25l\u001b[?25hdone\n",
            "  Preparing metadata (pyproject.toml) ... \u001b[?25l\u001b[?25hdone\n",
            "Collecting ale-py~=0.8.1 (from shimmy[atari]<1.0,>=0.1.0->gymnasium[accept-rom-license,atari])\n",
            "  Downloading ale_py-0.8.1-cp310-cp310-manylinux_2_17_x86_64.manylinux2014_x86_64.whl (1.7 MB)\n",
            "\u001b[2K     \u001b[90m━━━━━━━━━━━━━━━━━━━━━━━━━━━━━━━━━━━━━━━━\u001b[0m \u001b[32m1.7/1.7 MB\u001b[0m \u001b[31m36.3 MB/s\u001b[0m eta \u001b[36m0:00:00\u001b[0m\n",
            "\u001b[?25hRequirement already satisfied: importlib-resources in /usr/local/lib/python3.10/dist-packages (from ale-py~=0.8.1->shimmy[atari]<1.0,>=0.1.0->gymnasium[accept-rom-license,atari]) (6.4.0)\n",
            "Requirement already satisfied: charset-normalizer<4,>=2 in /usr/local/lib/python3.10/dist-packages (from requests->autorom[accept-rom-license]~=0.4.2->gymnasium[accept-rom-license,atari]) (3.3.2)\n",
            "Requirement already satisfied: idna<4,>=2.5 in /usr/local/lib/python3.10/dist-packages (from requests->autorom[accept-rom-license]~=0.4.2->gymnasium[accept-rom-license,atari]) (3.7)\n",
            "Requirement already satisfied: urllib3<3,>=1.21.1 in /usr/local/lib/python3.10/dist-packages (from requests->autorom[accept-rom-license]~=0.4.2->gymnasium[accept-rom-license,atari]) (2.0.7)\n",
            "Requirement already satisfied: certifi>=2017.4.17 in /usr/local/lib/python3.10/dist-packages (from requests->autorom[accept-rom-license]~=0.4.2->gymnasium[accept-rom-license,atari]) (2024.2.2)\n",
            "Building wheels for collected packages: AutoROM.accept-rom-license\n",
            "  Building wheel for AutoROM.accept-rom-license (pyproject.toml) ... \u001b[?25l\u001b[?25hdone\n",
            "  Created wheel for AutoROM.accept-rom-license: filename=AutoROM.accept_rom_license-0.6.1-py3-none-any.whl size=446659 sha256=e991cc4cda4c515c30900d3893fa311f1611526090a295d4b74d5c5816218788\n",
            "  Stored in directory: /root/.cache/pip/wheels/6b/1b/ef/a43ff1a2f1736d5711faa1ba4c1f61be1131b8899e6a057811\n",
            "Successfully built AutoROM.accept-rom-license\n",
            "Installing collected packages: ale-py, shimmy, AutoROM.accept-rom-license, autorom\n",
            "Successfully installed AutoROM.accept-rom-license-0.6.1 ale-py-0.8.1 autorom-0.4.2 shimmy-0.2.1\n",
            "Reading package lists... Done\n",
            "Building dependency tree... Done\n",
            "Reading state information... Done\n",
            "The following additional packages will be installed:\n",
            "  swig4.0\n",
            "Suggested packages:\n",
            "  swig-doc swig-examples swig4.0-examples swig4.0-doc\n",
            "The following NEW packages will be installed:\n",
            "  swig swig4.0\n",
            "0 upgraded, 2 newly installed, 0 to remove and 45 not upgraded.\n",
            "Need to get 1,116 kB of archives.\n",
            "After this operation, 5,542 kB of additional disk space will be used.\n",
            "Get:1 http://archive.ubuntu.com/ubuntu jammy/universe amd64 swig4.0 amd64 4.0.2-1ubuntu1 [1,110 kB]\n",
            "Get:2 http://archive.ubuntu.com/ubuntu jammy/universe amd64 swig all 4.0.2-1ubuntu1 [5,632 B]\n",
            "Fetched 1,116 kB in 1s (828 kB/s)\n",
            "Selecting previously unselected package swig4.0.\n",
            "(Reading database ... 121918 files and directories currently installed.)\n",
            "Preparing to unpack .../swig4.0_4.0.2-1ubuntu1_amd64.deb ...\n",
            "Unpacking swig4.0 (4.0.2-1ubuntu1) ...\n",
            "Selecting previously unselected package swig.\n",
            "Preparing to unpack .../swig_4.0.2-1ubuntu1_all.deb ...\n",
            "Unpacking swig (4.0.2-1ubuntu1) ...\n",
            "Setting up swig4.0 (4.0.2-1ubuntu1) ...\n",
            "Setting up swig (4.0.2-1ubuntu1) ...\n",
            "Processing triggers for man-db (2.10.2-1) ...\n",
            "Requirement already satisfied: gymnasium[box2d] in /usr/local/lib/python3.10/dist-packages (0.29.1)\n",
            "Requirement already satisfied: numpy>=1.21.0 in /usr/local/lib/python3.10/dist-packages (from gymnasium[box2d]) (1.25.2)\n",
            "Requirement already satisfied: cloudpickle>=1.2.0 in /usr/local/lib/python3.10/dist-packages (from gymnasium[box2d]) (2.2.1)\n",
            "Requirement already satisfied: typing-extensions>=4.3.0 in /usr/local/lib/python3.10/dist-packages (from gymnasium[box2d]) (4.11.0)\n",
            "Requirement already satisfied: farama-notifications>=0.0.1 in /usr/local/lib/python3.10/dist-packages (from gymnasium[box2d]) (0.0.4)\n",
            "Collecting box2d-py==2.3.5 (from gymnasium[box2d])\n",
            "  Downloading box2d-py-2.3.5.tar.gz (374 kB)\n",
            "\u001b[2K     \u001b[90m━━━━━━━━━━━━━━━━━━━━━━━━━━━━━━━━━━━━━━━━\u001b[0m \u001b[32m374.4/374.4 kB\u001b[0m \u001b[31m5.5 MB/s\u001b[0m eta \u001b[36m0:00:00\u001b[0m\n",
            "\u001b[?25h  Preparing metadata (setup.py) ... \u001b[?25l\u001b[?25hdone\n",
            "Requirement already satisfied: pygame>=2.1.3 in /usr/local/lib/python3.10/dist-packages (from gymnasium[box2d]) (2.5.2)\n",
            "Collecting swig==4.* (from gymnasium[box2d])\n",
            "  Downloading swig-4.2.1-py2.py3-none-manylinux_2_5_x86_64.manylinux1_x86_64.whl (1.9 MB)\n",
            "\u001b[2K     \u001b[90m━━━━━━━━━━━━━━━━━━━━━━━━━━━━━━━━━━━━━━━━\u001b[0m \u001b[32m1.9/1.9 MB\u001b[0m \u001b[31m39.1 MB/s\u001b[0m eta \u001b[36m0:00:00\u001b[0m\n",
            "\u001b[?25hBuilding wheels for collected packages: box2d-py\n",
            "  Building wheel for box2d-py (setup.py) ... \u001b[?25l\u001b[?25hdone\n",
            "  Created wheel for box2d-py: filename=box2d_py-2.3.5-cp310-cp310-linux_x86_64.whl size=2349115 sha256=148ad2e97b08a252e5124e501f1625324060184b029c1186f1c389a06504ace1\n",
            "  Stored in directory: /root/.cache/pip/wheels/db/8f/6a/eaaadf056fba10a98d986f6dce954e6201ba3126926fc5ad9e\n",
            "Successfully built box2d-py\n",
            "Installing collected packages: swig, box2d-py\n",
            "Successfully installed box2d-py-2.3.5 swig-4.2.1\n"
          ]
        }
      ],
      "source": [
        "!pip install gymnasium\n",
        "!pip install \"gymnasium[atari, accept-rom-license]\"\n",
        "!apt-get install -y swig\n",
        "!pip install gymnasium[box2d]"
      ]
    },
    {
      "cell_type": "markdown",
      "metadata": {
        "id": "brqiMN3UW9T9"
      },
      "source": [
        "### Importing the libraries"
      ]
    },
    {
      "cell_type": "code",
      "execution_count": 2,
      "metadata": {
        "id": "mZaKXP_aMl9O"
      },
      "outputs": [],
      "source": [
        "import os\n",
        "import random\n",
        "import numpy as np\n",
        "import torch\n",
        "import torch.nn as nn\n",
        "import torch.optim as optim\n",
        "import torch.nn.functional as F\n",
        "import torch.autograd as autograd\n",
        "from torch.autograd import Variable\n",
        "from collections import deque, namedtuple"
      ]
    },
    {
      "cell_type": "markdown",
      "metadata": {
        "id": "EzlDKXvkXzGI"
      },
      "source": [
        "## Part 1 - Building the AI"
      ]
    },
    {
      "cell_type": "markdown",
      "metadata": {
        "id": "UtG6Zc83YYy3"
      },
      "source": [
        "### Creating the architecture of the Neural Network"
      ]
    },
    {
      "cell_type": "code",
      "source": [
        "class Network(nn.Module):\n",
        "\n",
        "  def __init__(self, state_size, action_size, seed = 42):\n",
        "    super(Network, self).__init__()\n",
        "    self.seed = torch.manual_seed(seed)\n",
        "    self.fc1 = nn.Linear(state_size, 64)\n",
        "    self.fc2 = nn.Linear(64, 64)\n",
        "    self.fc3 = nn.Linear(64, action_size)\n",
        "\n",
        "  def forward(self, state):\n",
        "    x = self.fc1(state)\n",
        "    x = F.relu(x)\n",
        "    x = self.fc2(x)\n",
        "    x = F.relu(x)\n",
        "    return self.fc3(x)"
      ],
      "metadata": {
        "id": "h9oUxasLEJx9"
      },
      "execution_count": 3,
      "outputs": []
    },
    {
      "cell_type": "markdown",
      "metadata": {
        "id": "UxVrBnFWZKb1"
      },
      "source": [
        "## Part 2 - Training the AI"
      ]
    },
    {
      "cell_type": "markdown",
      "metadata": {
        "id": "T364fz9qZb2j"
      },
      "source": [
        "### Setting up the environment"
      ]
    },
    {
      "cell_type": "code",
      "source": [
        "import gymnasium as gym\n",
        "env = gym.make('LunarLander-v2', render_mode='rgb_array')\n",
        "state_shape = env.observation_space.shape\n",
        "state_size = env.observation_space.shape[0]\n",
        "number_actions = env.action_space.n\n",
        "print('State shape: ', state_shape)\n",
        "print('State size: ', state_size)\n",
        "print('Number of actions: ', number_actions)"
      ],
      "metadata": {
        "colab": {
          "base_uri": "https://localhost:8080/"
        },
        "id": "NUWiCFWySXIh",
        "outputId": "0297ce0e-729d-496a-ab97-febc72853408"
      },
      "execution_count": 4,
      "outputs": [
        {
          "output_type": "stream",
          "name": "stdout",
          "text": [
            "State shape:  (8,)\n",
            "State size:  8\n",
            "Number of actions:  4\n"
          ]
        }
      ]
    },
    {
      "cell_type": "markdown",
      "metadata": {
        "id": "c_dZmOIvZgj-"
      },
      "source": [
        "### Initializing the hyperparameters"
      ]
    },
    {
      "cell_type": "code",
      "source": [
        "learning_rate = 5e-4\n",
        "minibatch_size = 100\n",
        "discount_factor = 0.99\n",
        "replay_buffer_size = int(1e5)\n",
        "interpolation_parameter = 1e-3"
      ],
      "metadata": {
        "id": "bNKnUzj1Oqz8",
        "colab": {
          "base_uri": "https://localhost:8080/"
        },
        "outputId": "76949eb6-6430-4e01-8082-5a2c7e8cb93c"
      },
      "execution_count": 5,
      "outputs": [
        {
          "output_type": "stream",
          "name": "stderr",
          "text": [
            "/usr/local/lib/python3.10/dist-packages/ipykernel/ipkernel.py:283: DeprecationWarning: `should_run_async` will not call `transform_cell` automatically in the future. Please pass the result to `transformed_cell` argument and any exception that happen during thetransform in `preprocessing_exc_tuple` in IPython 7.17 and above.\n",
            "  and should_run_async(code)\n"
          ]
        }
      ]
    },
    {
      "cell_type": "markdown",
      "metadata": {
        "id": "8hD_Vs-bYnip"
      },
      "source": [
        "### Implementing Experience Replay"
      ]
    },
    {
      "cell_type": "code",
      "source": [
        "class ReplayMemory(object):\n",
        "\n",
        "  def __init__(self, capacity):\n",
        "    self.device = torch.device(\"cuda:0\" if torch.cuda.is_available() else \"cpu\")\n",
        "    self.capacity = capacity\n",
        "    self.memory = []\n",
        "\n",
        "  def push(self, event):\n",
        "    self.memory.append(event)\n",
        "    if len(self.memory) > self.capacity:\n",
        "      del self.memory[0]\n",
        "\n",
        "  def sample(self, batch_size):\n",
        "    experiences = random.sample(self.memory, k = batch_size)\n",
        "    states = torch.from_numpy(np.vstack([e[0] for e in experiences if e is not None])).float().to(self.device)\n",
        "    actions = torch.from_numpy(np.vstack([e[1] for e in experiences if e is not None])).long().to(self.device)\n",
        "    rewards = torch.from_numpy(np.vstack([e[2] for e in experiences if e is not None])).float().to(self.device)\n",
        "    next_states = torch.from_numpy(np.vstack([e[3] for e in experiences if e is not None])).float().to(self.device)\n",
        "    dones = torch.from_numpy(np.vstack([e[4] for e in experiences if e is not None]).astype(np.uint8)).float().to(self.device)\n",
        "    return states, next_states, actions, rewards, dones"
      ],
      "metadata": {
        "id": "QaEChoj_uRoe"
      },
      "execution_count": 6,
      "outputs": []
    },
    {
      "cell_type": "markdown",
      "metadata": {
        "id": "JmEkbFbUY6Jt"
      },
      "source": [
        "### Implementing the DQN class"
      ]
    },
    {
      "cell_type": "code",
      "source": [
        "class Agent():\n",
        "\n",
        "  def __init__(self, state_size, action_size):\n",
        "    self.device = torch.device(\"cuda:0\" if torch.cuda.is_available() else \"cpu\")\n",
        "    self.state_size = state_size\n",
        "    self.action_size = action_size\n",
        "    self.local_qnetwork = Network(state_size, action_size).to(self.device)\n",
        "    self.target_qnetwork = Network(state_size, action_size).to(self.device)\n",
        "    self.optimizer = optim.Adam(self.local_qnetwork.parameters(), lr = learning_rate)\n",
        "    self.memory = ReplayMemory(replay_buffer_size)\n",
        "    self.t_step = 0\n",
        "\n",
        "  def step(self, state, action, reward, next_state, done):\n",
        "    self.memory.push((state, action, reward, next_state, done))\n",
        "    self.t_step = (self.t_step + 1) % 4\n",
        "    if self.t_step == 0:\n",
        "      if len(self.memory.memory) > minibatch_size:\n",
        "        experiences = self.memory.sample(100)\n",
        "        self.learn(experiences, discount_factor)\n",
        "\n",
        "  def act(self, state, epsilon = 0.):\n",
        "    state = torch.from_numpy(state).float().unsqueeze(0).to(self.device)\n",
        "    self.local_qnetwork.eval()\n",
        "    with torch.no_grad():\n",
        "      action_values = self.local_qnetwork(state)\n",
        "    self.local_qnetwork.train()\n",
        "    if random.random() > epsilon:\n",
        "      return np.argmax(action_values.cpu().data.numpy())\n",
        "    else:\n",
        "      return random.choice(np.arange(self.action_size))\n",
        "\n",
        "  def learn(self, experiences, discount_factor):\n",
        "    states, next_states, actions, rewards, dones = experiences\n",
        "    next_q_targets = self.target_qnetwork(next_states).detach().max(1)[0].unsqueeze(1)\n",
        "    q_targets = rewards + discount_factor * next_q_targets * (1 - dones)\n",
        "    q_expected = self.local_qnetwork(states).gather(1, actions)\n",
        "    loss = F.mse_loss(q_expected, q_targets)\n",
        "    self.optimizer.zero_grad()\n",
        "    loss.backward()\n",
        "    self.optimizer.step()\n",
        "    self.soft_update(self.local_qnetwork, self.target_qnetwork, interpolation_parameter)\n",
        "\n",
        "  def soft_update(self, local_model, target_model, interpolation_parameter):\n",
        "    for target_param, local_param in zip(target_model.parameters(), local_model.parameters()):\n",
        "      target_param.data.copy_(interpolation_parameter * local_param.data + (1.0 - interpolation_parameter) * target_param.data)"
      ],
      "metadata": {
        "id": "iokmjTKJ9E3U"
      },
      "execution_count": 7,
      "outputs": []
    },
    {
      "cell_type": "markdown",
      "metadata": {
        "id": "o1tZElccZmf6"
      },
      "source": [
        "### Initializing the DQN agent"
      ]
    },
    {
      "cell_type": "code",
      "source": [
        "agent = Agent(state_size, number_actions)"
      ],
      "metadata": {
        "id": "cGbpJJvLjmIw"
      },
      "execution_count": 8,
      "outputs": []
    },
    {
      "cell_type": "markdown",
      "metadata": {
        "id": "E8v0PtUfaVQp"
      },
      "source": [
        "### Training the DQN agent"
      ]
    },
    {
      "cell_type": "code",
      "source": [
        "import imageio\n",
        "\n",
        "number_episodes = 2000\n",
        "maximum_number_timesteps_per_episode = 1000\n",
        "epsilon_starting_value  = 1.0\n",
        "epsilon_ending_value  = 0.01\n",
        "epsilon_decay_value  = 0.995\n",
        "epsilon = epsilon_starting_value\n",
        "scores_on_100_episodes = deque(maxlen = 100)\n",
        "\n",
        "frames = []\n",
        "for episode in range(1, number_episodes + 1):\n",
        "  state, _ = env.reset()\n",
        "  score = 0\n",
        "  for t in range(maximum_number_timesteps_per_episode):\n",
        "    frame = env.render()\n",
        "    frames.append(frame)\n",
        "    action = agent.act(state, epsilon)\n",
        "    next_state, reward, done, _, _ = env.step(action)\n",
        "    agent.step(state, action, reward, next_state, done)\n",
        "    state = next_state\n",
        "    score += reward\n",
        "    if done:\n",
        "      break\n",
        "\n",
        "  env.close()\n",
        "  kargs = { 'fps': 30, 'quality': 10, 'macro_block_size': None, 'ffmpeg_params': ['-s','600x450'] }\n",
        "  imageio.mimsave('training/train-'+str(episode)+'.mp4', frames, **kargs)\n",
        "  frames = []\n",
        "\n",
        "  scores_on_100_episodes.append(score)\n",
        "  epsilon = max(epsilon_ending_value, epsilon_decay_value * epsilon)\n",
        "  print('\\rEpisode {}\\tAverage Score: {:.2f}'.format(episode, np.mean(scores_on_100_episodes)), end = \"\")\n",
        "\n",
        "  if episode % 100 == 0:\n",
        "    print('\\rEpisode {}\\tAverage Score: {:.2f}'.format(episode, np.mean(scores_on_100_episodes)))\n",
        "\n",
        "  if np.mean(scores_on_100_episodes) >= 200.0:\n",
        "    print('\\nEnvironment solved in {:d} episodes!\\tAverage Score: {:.2f}'.format(episode - 100, np.mean(scores_on_100_episodes)))\n",
        "    torch.save(agent.local_qnetwork.state_dict(), 'checkpoint.pth')\n",
        "    break"
      ],
      "metadata": {
        "colab": {
          "base_uri": "https://localhost:8080/"
        },
        "id": "2ybZW6Im-Bwj",
        "outputId": "21f64458-b31c-4f59-ee85-c405ee935953"
      },
      "execution_count": 10,
      "outputs": [
        {
          "output_type": "stream",
          "name": "stdout",
          "text": [
            "Episode 100\tAverage Score: -168.48\n",
            "Episode 200\tAverage Score: -96.05\n",
            "Episode 300\tAverage Score: -36.80\n",
            "Episode 400\tAverage Score: 0.63\n",
            "Episode 500\tAverage Score: 139.61\n",
            "Episode 600\tAverage Score: 183.86\n",
            "Episode 631\tAverage Score: 200.81\n",
            "Environment solved in 531 episodes!\tAverage Score: 200.81\n"
          ]
        }
      ]
    },
    {
      "cell_type": "code",
      "source": [
        "# Compress all training video\n",
        "import os\n",
        "import zipfile\n",
        "\n",
        "def zipdir(path, ziph):\n",
        "    # ziph is zipfile handle\n",
        "    for root, dirs, files in os.walk(path):\n",
        "        for file in files:\n",
        "            ziph.write(os.path.join(root, file),\n",
        "                       os.path.relpath(os.path.join(root, file),\n",
        "                                       os.path.join(path, '..')))\n",
        "\n",
        "with zipfile.ZipFile('training.zip', 'w', zipfile.ZIP_DEFLATED) as zipf:\n",
        "    zipdir('training/', zipf)"
      ],
      "metadata": {
        "id": "JK4PsbzwsLY8"
      },
      "execution_count": 11,
      "outputs": []
    },
    {
      "cell_type": "code",
      "source": [
        "# Merge All training video\n",
        "from moviepy.editor import *\n",
        "import os\n",
        "from natsort import natsorted\n",
        "\n",
        "L = []\n",
        "\n",
        "for root, dirs, files in os.walk(\"training/\"):\n",
        "\n",
        "    #files.sort()\n",
        "    files = natsorted(files)\n",
        "    for file in files:\n",
        "        if os.path.splitext(file)[1] == '.mp4':\n",
        "            filePath = os.path.join(root, file)\n",
        "            video = VideoFileClip(filePath)\n",
        "            L.append(video)\n",
        "\n",
        "final_clip = concatenate_videoclips(L)\n",
        "final_clip.to_videofile(\"video.mp4\", fps=24, remove_temp=False)"
      ],
      "metadata": {
        "colab": {
          "base_uri": "https://localhost:8080/"
        },
        "id": "SwhplQsHt60I",
        "outputId": "b5f01fa2-e5ea-44f2-962f-979e175ae4f7"
      },
      "execution_count": 12,
      "outputs": [
        {
          "output_type": "stream",
          "name": "stderr",
          "text": [
            "WARNING:py.warnings:/usr/local/lib/python3.10/dist-packages/skimage/util/dtype.py:27: DeprecationWarning: `np.bool8` is a deprecated alias for `np.bool_`.  (Deprecated NumPy 1.24)\n",
            "  np.bool8: (False, True),\n",
            "\n",
            "WARNING:py.warnings:/usr/local/lib/python3.10/dist-packages/moviepy/video/fx/painting.py:7: DeprecationWarning: Please use `sobel` from the `scipy.ndimage` namespace, the `scipy.ndimage.filters` namespace is deprecated.\n",
            "  from scipy.ndimage.filters import sobel\n",
            "\n"
          ]
        },
        {
          "output_type": "stream",
          "name": "stdout",
          "text": [
            "Moviepy - Building video video.mp4.\n",
            "Moviepy - Writing video video.mp4\n",
            "\n"
          ]
        },
        {
          "output_type": "stream",
          "name": "stderr",
          "text": [
            "t:   1%|          | 2647/274680 [00:23<49:42, 91.22it/s, now=None]WARNING:py.warnings:/usr/local/lib/python3.10/dist-packages/moviepy/video/io/ffmpeg_reader.py:123: UserWarning: Warning: in file training/train-34.mp4, 810000 bytes wanted but 0 bytes read,at frame 113/114, at time 3.77/3.77 sec. Using the last valid frame instead.\n",
            "  warnings.warn(\"Warning: in file %s, \"%(self.filename)+\n",
            "\n",
            "t:   3%|▎         | 8289/274680 [01:22<47:40, 93.11it/s, now=None]WARNING:py.warnings:/usr/local/lib/python3.10/dist-packages/moviepy/video/io/ffmpeg_reader.py:123: UserWarning: Warning: in file training/train-96.mp4, 810000 bytes wanted but 0 bytes read,at frame 122/123, at time 4.07/4.07 sec. Using the last valid frame instead.\n",
            "  warnings.warn(\"Warning: in file %s, \"%(self.filename)+\n",
            "\n",
            "t:   3%|▎         | 8838/274680 [01:29<52:59, 83.60it/s, now=None]WARNING:py.warnings:/usr/local/lib/python3.10/dist-packages/moviepy/video/io/ffmpeg_reader.py:123: UserWarning: Warning: in file training/train-102.mp4, 810000 bytes wanted but 0 bytes read,at frame 74/75, at time 2.47/2.47 sec. Using the last valid frame instead.\n",
            "  warnings.warn(\"Warning: in file %s, \"%(self.filename)+\n",
            "\n",
            "t:   4%|▍         | 11457/274680 [01:51<48:55, 89.68it/s, now=None]WARNING:py.warnings:/usr/local/lib/python3.10/dist-packages/moviepy/video/io/ffmpeg_reader.py:123: UserWarning: Warning: in file training/train-122.mp4, 810000 bytes wanted but 0 bytes read,at frame 89/90, at time 2.97/2.97 sec. Using the last valid frame instead.\n",
            "  warnings.warn(\"Warning: in file %s, \"%(self.filename)+\n",
            "\n",
            "t:   7%|▋         | 19806/274680 [03:13<27:13, 156.03it/s, now=None]WARNING:py.warnings:/usr/local/lib/python3.10/dist-packages/moviepy/video/io/ffmpeg_reader.py:123: UserWarning: Warning: in file training/train-176.mp4, 810000 bytes wanted but 0 bytes read,at frame 131/132, at time 4.37/4.37 sec. Using the last valid frame instead.\n",
            "  warnings.warn(\"Warning: in file %s, \"%(self.filename)+\n",
            "\n",
            "t:  57%|█████▋    | 155591/274680 [24:33<13:35, 145.97it/s, now=None]WARNING:py.warnings:/usr/local/lib/python3.10/dist-packages/moviepy/video/io/ffmpeg_reader.py:123: UserWarning: Warning: in file training/train-395.mp4, 810000 bytes wanted but 0 bytes read,at frame 674/675, at time 22.47/22.47 sec. Using the last valid frame instead.\n",
            "  warnings.warn(\"Warning: in file %s, \"%(self.filename)+\n",
            "\n",
            "t:  58%|█████▊    | 158914/274680 [25:04<12:00, 160.59it/s, now=None]WARNING:py.warnings:/usr/local/lib/python3.10/dist-packages/moviepy/video/io/ffmpeg_reader.py:123: UserWarning: Warning: in file training/train-400.mp4, 810000 bytes wanted but 0 bytes read,at frame 848/849, at time 28.27/28.27 sec. Using the last valid frame instead.\n",
            "  warnings.warn(\"Warning: in file %s, \"%(self.filename)+\n",
            "\n",
            "t:  59%|█████▉    | 162204/274680 [25:35<12:07, 154.63it/s, now=None]WARNING:py.warnings:/usr/local/lib/python3.10/dist-packages/moviepy/video/io/ffmpeg_reader.py:123: UserWarning: Warning: in file training/train-405.mp4, 810000 bytes wanted but 0 bytes read,at frame 809/810, at time 26.97/26.97 sec. Using the last valid frame instead.\n",
            "  warnings.warn(\"Warning: in file %s, \"%(self.filename)+\n",
            "\n",
            "t:  65%|██████▌   | 179404/274680 [28:05<15:20, 103.54it/s, now=None]WARNING:py.warnings:/usr/local/lib/python3.10/dist-packages/moviepy/video/io/ffmpeg_reader.py:123: UserWarning: Warning: in file training/train-430.mp4, 810000 bytes wanted but 0 bytes read,at frame 659/660, at time 21.97/21.97 sec. Using the last valid frame instead.\n",
            "  warnings.warn(\"Warning: in file %s, \"%(self.filename)+\n",
            "\n",
            "t:  72%|███████▏  | 197588/274680 [30:49<11:51, 108.41it/s, now=None]WARNING:py.warnings:/usr/local/lib/python3.10/dist-packages/moviepy/video/io/ffmpeg_reader.py:123: UserWarning: Warning: in file training/train-460.mp4, 810000 bytes wanted but 0 bytes read,at frame 602/603, at time 20.07/20.07 sec. Using the last valid frame instead.\n",
            "  warnings.warn(\"Warning: in file %s, \"%(self.filename)+\n",
            "\n",
            "t:  79%|███████▉  | 216959/274680 [33:36<09:37, 99.98it/s, now=None]WARNING:py.warnings:/usr/local/lib/python3.10/dist-packages/moviepy/video/io/ffmpeg_reader.py:123: UserWarning: Warning: in file training/train-498.mp4, 810000 bytes wanted but 0 bytes read,at frame 392/393, at time 13.07/13.07 sec. Using the last valid frame instead.\n",
            "  warnings.warn(\"Warning: in file %s, \"%(self.filename)+\n",
            "\n",
            "t:  80%|████████  | 219924/274680 [34:01<05:04, 179.94it/s, now=None]WARNING:py.warnings:/usr/local/lib/python3.10/dist-packages/moviepy/video/io/ffmpeg_reader.py:123: UserWarning: Warning: in file training/train-503.mp4, 810000 bytes wanted but 0 bytes read,at frame 968/969, at time 32.27/32.27 sec. Using the last valid frame instead.\n",
            "  warnings.warn(\"Warning: in file %s, \"%(self.filename)+\n",
            "\n",
            "t:  96%|█████████▋| 264850/274680 [40:12<01:31, 107.61it/s, now=None]WARNING:py.warnings:/usr/local/lib/python3.10/dist-packages/moviepy/video/io/ffmpeg_reader.py:123: UserWarning: Warning: in file training/train-607.mp4, 810000 bytes wanted but 0 bytes read,at frame 419/420, at time 13.97/13.97 sec. Using the last valid frame instead.\n",
            "  warnings.warn(\"Warning: in file %s, \"%(self.filename)+\n",
            "\n"
          ]
        },
        {
          "output_type": "stream",
          "name": "stdout",
          "text": [
            "Moviepy - Done !\n",
            "Moviepy - video ready video.mp4\n"
          ]
        }
      ]
    },
    {
      "cell_type": "markdown",
      "metadata": {
        "id": "O8CNwdOTcCoP"
      },
      "source": [
        "## Part 3 - Visualizing the results"
      ]
    },
    {
      "cell_type": "code",
      "execution_count": 13,
      "metadata": {
        "id": "cb9nVvU2Okhk",
        "colab": {
          "base_uri": "https://localhost:8080/",
          "height": 459
        },
        "outputId": "5773347d-914c-4ad9-caf2-3b8a969913b6"
      },
      "outputs": [
        {
          "output_type": "stream",
          "name": "stderr",
          "text": [
            "WARNING:imageio_ffmpeg:IMAGEIO FFMPEG_WRITER WARNING: input image is not divisible by macro_block_size=16, resizing from (600, 400) to (608, 400) to ensure video compatibility with most codecs and players. To prevent resizing, make your input image divisible by the macro_block_size or set the macro_block_size to 1 (risking incompatibility).\n"
          ]
        },
        {
          "output_type": "display_data",
          "data": {
            "text/plain": [
              "<IPython.core.display.HTML object>"
            ],
            "text/html": [
              "<video alt=\"test\" autoplay\n",
              "                loop controls style=\"height: 400px;\">\n",
              "                <source src=\"data:video/mp4;base64,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\" type=\"video/mp4\" />\n",
              "             </video>"
            ]
          },
          "metadata": {}
        }
      ],
      "source": [
        "import glob\n",
        "import io\n",
        "import base64\n",
        "import imageio\n",
        "from IPython.display import HTML, display\n",
        "from gym.wrappers.monitoring.video_recorder import VideoRecorder\n",
        "\n",
        "def show_video_of_model(agent, env_name):\n",
        "    env = gym.make(env_name, render_mode='rgb_array')\n",
        "    state, _ = env.reset()\n",
        "    done = False\n",
        "    frames = []\n",
        "    while not done:\n",
        "        frame = env.render()\n",
        "        frames.append(frame)\n",
        "        action = agent.act(state)\n",
        "        state, reward, done, _, _ = env.step(action.item())\n",
        "    env.close()\n",
        "    imageio.mimsave('video-agent.mp4', frames, fps=30)\n",
        "\n",
        "show_video_of_model(agent, 'LunarLander-v2')\n",
        "\n",
        "def show_video():\n",
        "    mp4list = glob.glob('video-agent.mp4')\n",
        "    if len(mp4list) > 0:\n",
        "        mp4 = mp4list[0]\n",
        "        video = io.open(mp4, 'r+b').read()\n",
        "        encoded = base64.b64encode(video)\n",
        "        display(HTML(data='''<video alt=\"test\" autoplay\n",
        "                loop controls style=\"height: 400px;\">\n",
        "                <source src=\"data:video/mp4;base64,{0}\" type=\"video/mp4\" />\n",
        "             </video>'''.format(encoded.decode('ascii'))))\n",
        "    else:\n",
        "        print(\"Could not find video\")\n",
        "\n",
        "show_video()"
      ]
    }
  ],
  "metadata": {
    "colab": {
      "provenance": [],
      "gpuType": "T4"
    },
    "kernelspec": {
      "display_name": "Python 3",
      "name": "python3"
    },
    "language_info": {
      "name": "python"
    },
    "accelerator": "GPU"
  },
  "nbformat": 4,
  "nbformat_minor": 0
}